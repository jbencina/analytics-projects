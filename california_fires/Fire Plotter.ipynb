{
 "cells": [
  {
   "cell_type": "markdown",
   "metadata": {},
   "source": [
    "# California CZU/SCU VIIRS Fire Map\n",
    "This notebook uses data from the VIIRS satellites to plot detected fire events in Northern California over the time period of August 18th to August 28th, 2020. \n",
    "\n",
    "In order to obtain the data needed, visit the FIRMS Archive Download tool https://firms.modaps.eosdis.nasa.gov/download/create.php. Use the bounding box tool to select the appropriate area and export the data as csv. Select both VIIRS satellites as both will make separate passes over the area giving the most coverage."
   ]
  },
  {
   "cell_type": "code",
   "execution_count": null,
   "metadata": {},
   "outputs": [],
   "source": [
    "import pandas as pd\n",
    "import numpy as np\n",
    "import plotly.express as px\n",
    "import os\n",
    "import shutil\n",
    "from datetime import datetime\n",
    "from pathlib import Path\n",
    "from PIL import Image"
   ]
  },
  {
   "cell_type": "code",
   "execution_count": null,
   "metadata": {},
   "outputs": [],
   "source": [
    "def make_or_clear_path(path):\n",
    "    if os.path.exists(path):\n",
    "        shutil.rmtree(path)\n",
    "        \n",
    "    os.mkdir(path)\n",
    "    \n",
    "make_or_clear_path('czu_fire')\n",
    "make_or_clear_path('scu_fire')"
   ]
  },
  {
   "cell_type": "markdown",
   "metadata": {},
   "source": [
    "# Import Data\n",
    "Convert the times to Pacific and use -122 longitude as a rough separation of SCU and CZU fires"
   ]
  },
  {
   "cell_type": "code",
   "execution_count": null,
   "metadata": {},
   "outputs": [],
   "source": [
    "def read_data(path):\n",
    "    df = pd.read_csv(path, dtype={'acq_time': str})\n",
    "    df['dt'] = pd.to_datetime(df['acq_date'] + ' ' + df['acq_time'])\\\n",
    "               .dt.tz_localize('UTC')\\\n",
    "               .dt.tz_convert('US/Pacific')\\\n",
    "               .dt.tz_localize(None)\n",
    "    df = df[df['confidence'] != 'low']\n",
    "    df['fire'] = df['longitude'].apply(lambda x: 'CZU' if x <= -122 else 'SCU')\n",
    "    df['file'] = path\n",
    "    return df\n",
    "\n",
    "# Change report paths as necessary\n",
    "df = pd.concat([\n",
    "    read_data('fire_nrt_V1_148688.csv'),\n",
    "    read_data('fire_nrt_J1V-C2_148687.csv'),\n",
    "], axis=0)\n",
    "\n",
    "df = df.sort_values(by='dt').set_index('dt')\n",
    "df.head()"
   ]
  },
  {
   "cell_type": "markdown",
   "metadata": {},
   "source": [
    "# Resample Data\n",
    "Resamples the data to a rolling 24 hour lookback. For every 6 hours between 8/16 and 8/28, filter the data for the last 24 hours. This adds a little more stability to the data for visualization."
   ]
  },
  {
   "cell_type": "code",
   "execution_count": null,
   "metadata": {},
   "outputs": [],
   "source": [
    "def resample_data(df):\n",
    "    new_df = pd.DataFrame()\n",
    "\n",
    "    for i in pd.date_range(start='2020-08-16', end='2020-08-28', freq='6H'):\n",
    "        st = i - pd.Timedelta(24, 'h')\n",
    "        ed = i\n",
    "        dff = df.loc[st:ed, ['latitude','longitude','frp','fire']].reset_index()\n",
    "        dff['dt'] = i\n",
    "\n",
    "        new_df = new_df.append(dff)\n",
    "\n",
    "    new_df = new_df.sort_values(by='dt')\n",
    "    new_df['dts'] = new_df['dt'].astype(str)\n",
    "    new_df['seq'] = new_df['dt'].rank(method='dense')\n",
    "    new_df = new_df.rename(columns={'frp': 'Fire Radiative Power (MW)'})\n",
    "    \n",
    "    return new_df\n",
    "\n",
    "df_resampled = resample_data(df)"
   ]
  },
  {
   "cell_type": "markdown",
   "metadata": {},
   "source": [
    "# Plot Fires\n",
    "Plot fires using Plotly's density plot. The dark background requires a free Mapbox API token which is stored in a file named `token`. Outputs each fire to it's own folder."
   ]
  },
  {
   "cell_type": "code",
   "execution_count": null,
   "metadata": {},
   "outputs": [],
   "source": [
    "def plot_fire(data, fire_name, output_path):\n",
    "    with open('token', 'r') as f:\n",
    "        token = f.read()\n",
    "\n",
    "    df = data.loc[data['fire'] == fire_name]\n",
    "    frp_upper = df['Fire Radiative Power (MW)'].quantile(0.80)\n",
    "    center = {'lat': df['latitude'].mean(), 'lon': df['longitude'].mean()}\n",
    "    \n",
    "    for i, idx in enumerate(df.dt.unique()):\n",
    "        ft = datetime.strptime(str(idx)[:16], '%Y-%m-%dT%H:%M').strftime('%b %d, %Y - %I:%M %p PDT')\n",
    "        df_subset = df[df['dt'] == idx]\n",
    "        fig = px.density_mapbox(df_subset, lat=\"latitude\", lon=\"longitude\", z='Fire Radiative Power (MW)',\n",
    "                                center=center,\n",
    "                                radius=5,\n",
    "                                range_color=(0, frp_upper),\n",
    "                                color_continuous_scale=px.colors.sequential.YlOrRd,\n",
    "                                zoom=9, height=700, width=1000)\n",
    "        fig.update_layout(\n",
    "            mapbox_style=\"dark\",\n",
    "            mapbox_accesstoken=token,\n",
    "            margin={'r':0,'l':0,'b':0},\n",
    "            title={\n",
    "                'text': f'{fire_name} Fire - VIIRS 350m Satellite Image - 24H Period - {ft}',\n",
    "                'xanchor': 'center',\n",
    "                'x': 0.4,\n",
    "                'font': {'size': 16}\n",
    "            },\n",
    "            font={\n",
    "                'family': 'Helvetica'\n",
    "            }\n",
    "        )\n",
    "        fig.write_image(f'{output_path}/{i}.png')\n",
    "        \n",
    "plot_fire(df_resampled, 'CZU', 'czu_fire')\n",
    "plot_fire(df_resampled, 'SCU', 'scu_fire')"
   ]
  },
  {
   "cell_type": "markdown",
   "metadata": {},
   "source": [
    "# Make GIFs\n",
    "Loop through each folder and combine into gifs. These are pretty large, there are better ways to compress these GIFs before sharing out. Try a service like http://www.ezgif.com which took these sizes down ~90%."
   ]
  },
  {
   "cell_type": "code",
   "execution_count": null,
   "metadata": {},
   "outputs": [],
   "source": [
    "def make_gif(path, output):\n",
    "    p = Path(path)\n",
    "    paths = sorted(p.glob('*.png'), key=lambda x: int(os.path.splitext(x.name)[0]))\n",
    "    images = []\n",
    "    \n",
    "    for img_path in paths:\n",
    "        images.append(Image.open(img_path))\n",
    "        \n",
    "    images[0].save(output,\n",
    "                   append_images=images[1:],\n",
    "                   save_all=True,\n",
    "                   duration=500,\n",
    "                   loop=0)\n",
    "    \n",
    "make_gif('czu_fire', 'czu_fire.gif')\n",
    "make_gif('scu_fire', 'scu_fire.gif')"
   ]
  },
  {
   "cell_type": "markdown",
   "metadata": {},
   "source": [
    "# CZU Fire\n",
    "![CZU](czu_fire.gif)"
   ]
  },
  {
   "cell_type": "markdown",
   "metadata": {},
   "source": [
    "# SCU Fire\n",
    "![SCU](scu_fire.gif)"
   ]
  },
  {
   "cell_type": "code",
   "execution_count": null,
   "metadata": {},
   "outputs": [],
   "source": []
  }
 ],
 "metadata": {
  "kernelspec": {
   "display_name": "Python 3",
   "language": "python",
   "name": "python3"
  },
  "language_info": {
   "codemirror_mode": {
    "name": "ipython",
    "version": 3
   },
   "file_extension": ".py",
   "mimetype": "text/x-python",
   "name": "python",
   "nbconvert_exporter": "python",
   "pygments_lexer": "ipython3",
   "version": "3.7.3"
  }
 },
 "nbformat": 4,
 "nbformat_minor": 4
}
